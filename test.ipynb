{
 "cells": [
  {
   "cell_type": "code",
   "execution_count": 126,
   "metadata": {},
   "outputs": [],
   "source": [
    "import random\n",
    "from datetime import datetime\n",
    "\n",
    "import selenium\n",
    "import webdriver_manager\n",
    "from selenium.webdriver.common.by import By\n",
    "\n",
    "from bs4 import BeautifulSoup\n",
    "\n",
    "from crawler import get_url"
   ]
  },
  {
   "cell_type": "code",
   "execution_count": 149,
   "metadata": {},
   "outputs": [
    {
     "data": {
      "text/plain": [
       "3"
      ]
     },
     "execution_count": 149,
     "metadata": {},
     "output_type": "execute_result"
    }
   ],
   "source": [
    "random.randint(0, 3)"
   ]
  },
  {
   "cell_type": "code",
   "execution_count": 125,
   "metadata": {},
   "outputs": [],
   "source": [
    "variables = {\n",
    "    \n",
    "}"
   ]
  },
  {
   "cell_type": "code",
   "execution_count": null,
   "metadata": {},
   "outputs": [],
   "source": []
  },
  {
   "cell_type": "code",
   "execution_count": null,
   "metadata": {},
   "outputs": [],
   "source": []
  },
  {
   "cell_type": "code",
   "execution_count": 64,
   "metadata": {},
   "outputs": [],
   "source": [
    "url = \"https://v2.quantus.kr/backtest/universe\"\n",
    "\n",
    "wd = get_url(url, window=True, image=True)"
   ]
  },
  {
   "cell_type": "code",
   "execution_count": 69,
   "metadata": {},
   "outputs": [],
   "source": [
    "# input data: level (i)\n",
    "# i = 0: 초급\n",
    "# i = 1: 중급\n",
    "# i = 2: 고급\n",
    "\n",
    "d = {\n",
    "    0: \"초급\",\n",
    "    1: \"중급\",\n",
    "    2: \"고급\",\n",
    "}\n",
    "keys = list(d.keys())\n",
    "i = random.randint(min(keys), max(keys))\n",
    "variables[\"level\"] = d[i]\n",
    "\n",
    "# select level\n",
    "levels = wd.find_elements(By.CLASS_NAME, \"css-2ho4nc\")\n",
    "levels[i].click()\n",
    "\n",
    "# apply\n",
    "wd.find_element(By.CLASS_NAME, \"yes\").click()\n",
    "wd.find_element(By.CLASS_NAME, \"css-1lcj2w\").click()"
   ]
  },
  {
   "cell_type": "code",
   "execution_count": 67,
   "metadata": {},
   "outputs": [],
   "source": [
    "# click login button\n",
    "login_xpath = \"/html/body/div[1]/div/div[1]/div/div[1]/div/div/div/p\"\n",
    "wd.find_element(By.XPATH, login_xpath).click()\n",
    "\n",
    "# input data: login_method (i)\n",
    "# i = 1: google\n",
    "# i = 2: kakao\n",
    "d = {\n",
    "    1: \"google\",\n",
    "    2: \"kakao\",\n",
    "}\n",
    "keys = list(d.keys())\n",
    "i = random.randint(min(keys), max(keys))\n",
    "variables[\"login\"] = d[i]\n",
    "\n",
    "google_login_xpath = \"/html/body/div[1]/div/div[2]/div/div/div/a[1]\"\n",
    "kakao_login_xpath = \"/html/body/div[1]/div/div[2]/div/div/div/a[2]\"\n",
    "\n",
    "login_method_xpath = f\"/html/body/div[1]/div/div[2]/div/div/div/a[{i}]\"\n",
    "\n",
    "wd.find_element(By.XPATH, login_method_xpath).click()"
   ]
  },
  {
   "cell_type": "code",
   "execution_count": 68,
   "metadata": {},
   "outputs": [],
   "source": [
    "# Enter the login info\n",
    "email = 'wjddustjsla@naver.com'\n",
    "pw = 'jys1013011!'\n",
    "\n",
    "elm_email = wd.find_element(By.ID, \"input-loginKey\")\n",
    "elm_pw = wd.find_element(By.ID, \"input-password\")\n",
    "\n",
    "# input login info\n",
    "elm_email.send_keys(email)\n",
    "elm_pw.send_keys(pw)\n",
    "\n",
    "# click login button\n",
    "# wd.find_element(By.CLASS_NAME, \"btn_g highlight\").click()\n",
    "wd.find_element(By.XPATH, \"/html/body/div/div/div/main/article/div/div/form/div[4]/button[1]\").click()"
   ]
  },
  {
   "cell_type": "code",
   "execution_count": 88,
   "metadata": {},
   "outputs": [],
   "source": [
    "# strategy name\n",
    "now = datetime.now().strftime(\"%y%m%d_%H_%M_%S\")\n",
    "strategy_name = f\"test_{now}\"\n",
    "\n",
    "# Enter the strategy name\n",
    "strategy_name_xpath = \"/html/body/div[1]/div/div[2]/div[1]/div/div[1]/input\"\n",
    "elm_strategy_name = wd.find_element(By.XPATH, strategy_name_xpath)\n",
    "elm_strategy_name.send_keys(strategy_name)"
   ]
  },
  {
   "cell_type": "code",
   "execution_count": 123,
   "metadata": {},
   "outputs": [],
   "source": [
    "# 유티버스 선택\n",
    "\n",
    "\"\"\"\n",
    "\n",
    "0: 한국\n",
    "1: 미국\n",
    "2: KOSPI\n",
    "3: KOSDAQ\n",
    "\"\"\"\n",
    "d = {\n",
    "    0: \"한국\",\n",
    "    1: \"미국\",\n",
    "    2: \"KOSPI\",\n",
    "    3: \"KOSDAQ\",\n",
    "}\n",
    "keys = list(d.keys())\n",
    "i = random.randint(min(keys), max(keys))\n",
    "variables[\"universe\"] = d[i]\n",
    "\n",
    "wd.find_element(By.CLASS_NAME, \"css-cy3vpx\").click()\n",
    "universes = wd.find_elements(By.CLASS_NAME, \"css-zf30n6\")\n",
    "\n",
    "universe = universes[i]\n",
    "universe.click()"
   ]
  },
  {
   "cell_type": "code",
   "execution_count": 235,
   "metadata": {},
   "outputs": [
    {
     "data": {
      "text/plain": [
       "33"
      ]
     },
     "execution_count": 235,
     "metadata": {},
     "output_type": "execute_result"
    }
   ],
   "source": [
    "soup = BeautifulSoup(wd.page_source, \"lxml\")\n",
    "len(soup.find_all(\"div\", \"css-l5p0ef\"))"
   ]
  },
  {
   "cell_type": "code",
   "execution_count": 237,
   "metadata": {},
   "outputs": [
    {
     "name": "stdout",
     "output_type": "stream",
     "text": [
      "금융주 제외\n",
      "지주사 제외\n",
      "관리종목 제외\n",
      "적자기업 제외\n",
      "적자기업 제외 (년간)\n",
      "중국기업 제외\n",
      "PTP 기업 제외\n"
     ]
    }
   ],
   "source": [
    "filters = soup.find(\"div\", \"css-i2b1or\").find_all(\"div\", \"css-l5p0ef\")\n",
    "len_filters = len(filters)\n",
    "sectors = soup.find(\"div\", \"css-16ww4h3\").find_all(\"div\", \"css-l5p0ef\")\n",
    "\n",
    "# 기본 필터 & 제외할 섹터\n",
    "elm_filter_sector = wd.find_elements(By.CLASS_NAME, \"css-l5p0ef\")\n",
    "# filter elements\n",
    "elm_filters = elm_filter_sector[0:len_filters]\n",
    "# sector elements\n",
    "sectors = elm_filter_sector[len_filters:]\n",
    "\n",
    "i = 0\n",
    "for filter in filters:\n",
    "    c = round(random.random(), 0)\n",
    "    if c == 1:\n",
    "        variables[\"\"]"
   ]
  },
  {
   "cell_type": "code",
   "execution_count": null,
   "metadata": {},
   "outputs": [],
   "source": []
  },
  {
   "cell_type": "code",
   "execution_count": null,
   "metadata": {},
   "outputs": [],
   "source": []
  },
  {
   "cell_type": "code",
   "execution_count": 105,
   "metadata": {},
   "outputs": [],
   "source": [
    "# 기본 필터 & 제외할 섹터\n",
    "elm_filter_sector = wd.find_elements(By.CLASS_NAME, \"css-l5p0ef\")\n",
    "# filter elements\n",
    "elm_filters = elm_filter_sector[0:len_filters]\n",
    "# sector elements\n",
    "sectors = elm_filter_sector[len_filters:]"
   ]
  },
  {
   "cell_type": "code",
   "execution_count": null,
   "metadata": {},
   "outputs": [],
   "source": [
    "for filter in filters:\n",
    "    c = round(random.random(), 0)\n",
    "    if c == 1:\n",
    "        "
   ]
  },
  {
   "cell_type": "code",
   "execution_count": 231,
   "metadata": {},
   "outputs": [
    {
     "data": {
      "text/plain": [
       "0.0"
      ]
     },
     "execution_count": 231,
     "metadata": {},
     "output_type": "execute_result"
    }
   ],
   "source": [
    "c = round(random.random(), 0)"
   ]
  },
  {
   "cell_type": "code",
   "execution_count": null,
   "metadata": {},
   "outputs": [],
   "source": []
  },
  {
   "cell_type": "code",
   "execution_count": null,
   "metadata": {},
   "outputs": [],
   "source": []
  },
  {
   "cell_type": "code",
   "execution_count": null,
   "metadata": {},
   "outputs": [],
   "source": []
  },
  {
   "cell_type": "code",
   "execution_count": null,
   "metadata": {},
   "outputs": [],
   "source": []
  },
  {
   "cell_type": "code",
   "execution_count": 42,
   "metadata": {},
   "outputs": [],
   "source": [
    "soup = BeautifulSoup(wd.page_source, \"lxml\")"
   ]
  },
  {
   "cell_type": "code",
   "execution_count": 44,
   "metadata": {},
   "outputs": [
    {
     "data": {
      "text/plain": [
       "<button class=\"btn_g highlight\" type=\"submit\">Log In</button>"
      ]
     },
     "execution_count": 44,
     "metadata": {},
     "output_type": "execute_result"
    }
   ],
   "source": [
    "soup.find(\"button\", \"btn_g highlight\")"
   ]
  },
  {
   "cell_type": "code",
   "execution_count": 63,
   "metadata": {},
   "outputs": [],
   "source": [
    "wd.quit()"
   ]
  },
  {
   "cell_type": "code",
   "execution_count": null,
   "metadata": {},
   "outputs": [],
   "source": []
  }
 ],
 "metadata": {
  "kernelspec": {
   "display_name": "venv",
   "language": "python",
   "name": "python3"
  },
  "language_info": {
   "codemirror_mode": {
    "name": "ipython",
    "version": 3
   },
   "file_extension": ".py",
   "mimetype": "text/x-python",
   "name": "python",
   "nbconvert_exporter": "python",
   "pygments_lexer": "ipython3",
   "version": "3.11.1"
  },
  "orig_nbformat": 4,
  "vscode": {
   "interpreter": {
    "hash": "0934967f0403ca4943d8f4fa52275ade42772e3bf9101dfc6c691338049fba31"
   }
  }
 },
 "nbformat": 4,
 "nbformat_minor": 2
}
