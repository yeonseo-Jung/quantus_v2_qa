{
 "cells": [
  {
   "cell_type": "code",
   "execution_count": 6,
   "metadata": {},
   "outputs": [],
   "source": [
    "import time\n",
    "import random\n",
    "from datetime import datetime\n",
    "from bs4 import BeautifulSoup\n",
    "import pandas as pd\n",
    "\n",
    "import selenium\n",
    "import webdriver_manager\n",
    "from selenium.webdriver.common.by import By\n",
    "from selenium.common.exceptions import NoSuchElementException\n",
    "\n",
    "from crawler import get_url\n",
    "from test import init_page, test_back_port, reset\n",
    "from settings import filter_conditions"
   ]
  },
  {
   "cell_type": "code",
   "execution_count": 2,
   "metadata": {},
   "outputs": [],
   "source": [
    "filter_conditions[\"factors\"] = [1, 2, 3, 4]\n",
    "filter_conditions[\"factors\"] = \"all\""
   ]
  },
  {
   "cell_type": "code",
   "execution_count": 3,
   "metadata": {},
   "outputs": [
    {
     "name": "stdout",
     "output_type": "stream",
     "text": [
      "Complete login!\n"
     ]
    }
   ],
   "source": [
    "wd = init_page(**filter_conditions)"
   ]
  },
  {
   "cell_type": "code",
   "execution_count": 7,
   "metadata": {},
   "outputs": [
    {
     "name": "stdout",
     "output_type": "stream",
     "text": [
      "Strategy name: test_230106_17_20_11\n",
      "Universe: 미국\n",
      "[0, 1, 2, 3, 4, 5, 6, 7, 8, 9, 10, 11, 12, 13, 14, 15, 16, 17, 18, 19, 20, 21, 22, 23, 24, 25, 26, 27, 28, 29, 30, 31, 32, 33, 34, 35, 36, 37, 38, 39, 40, 41, 42, 43, 44, 45, 46, 47, 48, 49, 50, 51, 52, 53, 54, 55, 56, 57, 58, 59, 60, 61, 62, 63, 64, 65, 66, 67, 68, 69, 70, 71]\n",
      "시가총액\n",
      "PER\n",
      "PBR\n",
      "PSR\n",
      "POR\n",
      "PCR\n",
      "PFCR\n",
      "PRR\n",
      "PGPR\n",
      "PEG\n",
      "PAR\n",
      "PACR\n",
      "NCAV\n",
      "배당수익률\n",
      "주주수익률\n",
      "EV\n",
      "EV/Net\n",
      "EV/Sales\n",
      "EV/EBITDA\n",
      "EV/EBIT\n",
      "EV/GP\n",
      "EV/R&D\n",
      "EV/CF\n",
      "EV/AC\n",
      "ROE\n",
      "ROA\n",
      "GP/E\n",
      "GP/A\n",
      "Asset Turnover\n",
      "GPM\n",
      "OPM\n",
      "NPM\n",
      "F-score\n",
      "R&D / 매출액\n",
      "R&D / 매출총이익\n",
      "R&D / 영업이익\n",
      "R&D / 순이익\n",
      "AC/A\n",
      "AC/E\n",
      "변동성 (52주)\n",
      "변동성 (60일)\n",
      "영업이익 / 차입금\n",
      "차입금비율\n",
      "배당성향\n",
      "주주환원성향\n",
      "1개월 모멘텀\n",
      "3개월 모멘텀\n",
      "6개월 모멘텀\n",
      "12개월 모멘텀\n",
      "베타\n",
      "베타 (60일)\n",
      "절대값 베타\n",
      "절대값 베타 (60일)\n",
      "Turnover Rate\n",
      "순이익성장률 (QoQ)\n",
      "순이익성장률 (YoY)\n",
      "영업이익성장률 (QoQ)\n",
      "영업이익성장률 (YoY)\n",
      "매출총이익성장률 (QoQ)\n",
      "매출총이익성장률 (YoY)\n",
      "매출액성장률 (QoQ)\n",
      "매출액성장률 (YoY)\n",
      "자산성장률 (QoQ)\n",
      "자산성장률 (YoY)\n",
      "자본성장률 (QoQ)\n",
      "자본성장률 (YoY)\n",
      "GP/A성장률 (QoQ)\n",
      "GP/A성장률 (YoY)\n",
      "영업이익 / 차입금 성장 (YoY)\n",
      "영업이익 / 차입금 성장 (QoQ)\n",
      "Earning Acceleration (YoY)\n",
      "Earning Acceleration (QoQ)\n",
      "       Code                                      Name  시가총액 (달러)        업종명  \\\n",
      "0    FGI-US                            Fgi Industries      22800     소매(유통)   \n",
      "1     MG-US                             Mistras Group     115994        에너지   \n",
      "2   CNDT-US                                  Conduent     863680      소프트웨어   \n",
      "3   VSTO-US                             Vista Outdoor    1558589  화장품,의류,완구   \n",
      "4   MTBC-US                                 CareCloud      50987      소프트웨어   \n",
      "5   CAAS-US                  China Automotive Systems     170304        자동차   \n",
      "6   EBIX-US                                      Ebix     575430      소프트웨어   \n",
      "7   MLKN-US                               MillerKnoll    1466553     상사,자본재   \n",
      "8   ACMR-US                      Acm Research Class A     514926        반도체   \n",
      "9   NSYS-US                            Nortech System      42270        반도체   \n",
      "10   NCR-US                                       NCR    3132720      소프트웨어   \n",
      "11   AXL-US  American Axle and Manufacturing Holdings    1136377        자동차   \n",
      "\n",
      "                     상장된 시장  종가 (전일기준)  매수수량  총매수금액  \n",
      "0                    Nasdaq       2.40    69    165  \n",
      "1   New York Stock Exchange       3.88    42    162  \n",
      "2                    Nasdaq       4.00    41    164  \n",
      "3   New York Stock Exchange      27.55     6    165  \n",
      "4                    Nasdaq       3.35    49    164  \n",
      "5                    Nasdaq       5.64    29    163  \n",
      "6                    Nasdaq      18.62     8    148  \n",
      "7                    Nasdaq      19.41     8    155  \n",
      "8                    Nasdaq       8.66    19    164  \n",
      "9                    Nasdaq      15.71    10    157  \n",
      "10  New York Stock Exchange      22.80     7    159  \n",
      "11  New York Stock Exchange       9.92    16    158  \n"
     ]
    }
   ],
   "source": [
    "reset(wd)\n",
    "variables = test_back_port(wd, kind=1, **filter_conditions)"
   ]
  },
  {
   "cell_type": "code",
   "execution_count": 9,
   "metadata": {},
   "outputs": [
    {
     "data": {
      "text/plain": [
       "{'level': '고급',\n",
       " 'login': '카카오',\n",
       " 'strategy_name': 'test_230106_17_20_11',\n",
       " 'removed_filters': ['적자기업 제외', '지주사 제외'],\n",
       " 'removed_sectors': ['증권',\n",
       "  '기계',\n",
       "  '디스플레이',\n",
       "  '호텔,레저서비스',\n",
       "  '은행',\n",
       "  '비철,목재 등',\n",
       "  'IT 가전'],\n",
       " '가치 팩터 (Price 관련)': ['시가총액',\n",
       "  'PER',\n",
       "  'PBR',\n",
       "  'PSR',\n",
       "  'POR',\n",
       "  'PCR',\n",
       "  'PFCR',\n",
       "  'PRR',\n",
       "  'PGPR',\n",
       "  'PEG',\n",
       "  'PAR',\n",
       "  'PACR',\n",
       "  'NCAV',\n",
       "  '배당수익률',\n",
       "  '주주수익률'],\n",
       " '가치 팩터 (EV 관련)': ['EV',\n",
       "  'EV/Net',\n",
       "  'EV/Sales',\n",
       "  'EV/EBITDA',\n",
       "  'EV/EBIT',\n",
       "  'EV/GP',\n",
       "  'EV/R&D',\n",
       "  'EV/CF',\n",
       "  'EV/AC'],\n",
       " '퀄리티 팩터': ['ROE',\n",
       "  'ROA',\n",
       "  'GP/E',\n",
       "  'GP/A',\n",
       "  'Asset Turnover',\n",
       "  'GPM',\n",
       "  'OPM',\n",
       "  'NPM',\n",
       "  'F-score',\n",
       "  'R&D / 매출액',\n",
       "  'R&D / 매출총이익',\n",
       "  'R&D / 영업이익',\n",
       "  'R&D / 순이익',\n",
       "  'AC/A',\n",
       "  'AC/E',\n",
       "  '변동성 (52주)',\n",
       "  '변동성 (60일)',\n",
       "  '영업이익 / 차입금',\n",
       "  '차입금비율',\n",
       "  '배당성향',\n",
       "  '주주환원성향'],\n",
       " '가격 팩터': ['1개월 모멘텀',\n",
       "  '3개월 모멘텀',\n",
       "  '6개월 모멘텀',\n",
       "  '12개월 모멘텀',\n",
       "  '베타',\n",
       "  '베타 (60일)',\n",
       "  '절대값 베타',\n",
       "  '절대값 베타 (60일)',\n",
       "  'Turnover Rate'],\n",
       " '성장성 팩터': ['순이익성장률 (QoQ)',\n",
       "  '순이익성장률 (YoY)',\n",
       "  '영업이익성장률 (QoQ)',\n",
       "  '영업이익성장률 (YoY)',\n",
       "  '매출총이익성장률 (QoQ)',\n",
       "  '매출총이익성장률 (YoY)',\n",
       "  '매출액성장률 (QoQ)',\n",
       "  '매출액성장률 (YoY)',\n",
       "  '자산성장률 (QoQ)',\n",
       "  '자산성장률 (YoY)',\n",
       "  '자본성장률 (QoQ)',\n",
       "  '자본성장률 (YoY)',\n",
       "  'GP/A성장률 (QoQ)',\n",
       "  'GP/A성장률 (YoY)',\n",
       "  '영업이익 / 차입금 성장 (YoY)',\n",
       "  '영업이익 / 차입금 성장 (QoQ)',\n",
       "  'Earning Acceleration (YoY)',\n",
       "  'Earning Acceleration (QoQ)'],\n",
       " '초기 투자 금액': 2000,\n",
       " '종목 수': 12,\n",
       " 'logs': [{'level': 'SEVERE',\n",
       "   'message': 'https://devback.quantus.kr/save_strategy - Failed to load resource: the server responded with a status of 502 (Bad Gateway)',\n",
       "   'source': 'network',\n",
       "   'timestamp': 1672993243710}],\n",
       " 'results': ['Fgi Industries',\n",
       "  'Mistras Group',\n",
       "  'Conduent',\n",
       "  'Vista Outdoor',\n",
       "  'CareCloud',\n",
       "  'China Automotive Systems',\n",
       "  'Ebix',\n",
       "  'MillerKnoll',\n",
       "  'Acm Research Class A',\n",
       "  'Nortech System',\n",
       "  'NCR',\n",
       "  'American Axle and Manufacturing Holdings']}"
      ]
     },
     "execution_count": 9,
     "metadata": {},
     "output_type": "execute_result"
    }
   ],
   "source": [
    "variables"
   ]
  },
  {
   "cell_type": "code",
   "execution_count": 10,
   "metadata": {},
   "outputs": [],
   "source": [
    "wd.quit()"
   ]
  },
  {
   "attachments": {},
   "cell_type": "markdown",
   "metadata": {},
   "source": [
    "---\n",
    "### Test: 0"
   ]
  },
  {
   "cell_type": "code",
   "execution_count": null,
   "metadata": {},
   "outputs": [],
   "source": [
    "wd.quit()"
   ]
  },
  {
   "cell_type": "code",
   "execution_count": null,
   "metadata": {},
   "outputs": [],
   "source": [
    "variables = {}"
   ]
  },
  {
   "cell_type": "code",
   "execution_count": null,
   "metadata": {},
   "outputs": [],
   "source": [
    "url = \"https://v2.quantus.kr/backtest/universe\"\n",
    "# url = \"v2.quantus.kr/backtest/universe\"\n",
    "\n",
    "wd = get_url(url, window=True, image=True, logging=True)"
   ]
  },
  {
   "cell_type": "code",
   "execution_count": null,
   "metadata": {},
   "outputs": [],
   "source": [
    "wd.get_log(log_type=\"browser\")"
   ]
  },
  {
   "cell_type": "code",
   "execution_count": null,
   "metadata": {},
   "outputs": [],
   "source": [
    "def select_level(wd, level: int = None):\n",
    "    \n",
    "    d = {\n",
    "        0: \"초급\",\n",
    "        1: \"중급\",\n",
    "        2: \"고급\",\n",
    "    }\n",
    "    if not level:\n",
    "        keys = list(d.keys())\n",
    "        level = random.randint(min(keys), max(keys))\n",
    "\n",
    "    variables[\"level\"] = d[level]\n",
    "    # select level\n",
    "    levels = wd.find_elements(By.CLASS_NAME, \"css-2ho4nc\")\n",
    "    levels[level].click()\n",
    "\n",
    "    # apply\n",
    "    wd.find_element(By.CLASS_NAME, \"yes\").click()\n",
    "    wd.find_element(By.CLASS_NAME, \"css-1lcj2w\").click()"
   ]
  },
  {
   "cell_type": "code",
   "execution_count": null,
   "metadata": {},
   "outputs": [],
   "source": [
    "select_level(wd, level=2)"
   ]
  },
  {
   "cell_type": "code",
   "execution_count": null,
   "metadata": {},
   "outputs": [],
   "source": [
    "def _login(wd, login: int = None):\n",
    "    wd.get(\"https://v2.quantus.kr/login\")\n",
    "    d = {\n",
    "        0: \"구글\",\n",
    "        1: \"카카오\",\n",
    "    }\n",
    "\n",
    "    if not login:\n",
    "        keys = list(d.keys())\n",
    "        login = random.randint(min(keys), max(keys))\n",
    "\n",
    "\n",
    "    login = d[login]\n",
    "    variables[\"login\"] = login\n",
    "\n",
    "    wd.find_element(By.ID, login).click()\n",
    "\n",
    "    # Enter the login info\n",
    "    email = 'wjddustjsla@naver.com'\n",
    "    pw = 'jys1013011!'\n",
    "\n",
    "    elm_email = wd.find_element(By.ID, \"input-loginKey\")\n",
    "    elm_pw = wd.find_element(By.ID, \"input-password\")\n",
    "\n",
    "    # input login info\n",
    "    elm_email.send_keys(email)\n",
    "    elm_pw.send_keys(pw)\n",
    "\n",
    "    # click login button\n",
    "    # wd.find_element(By.CLASS_NAME, \"btn_g highlight\").click()\n",
    "    wd.find_element(By.XPATH, \"/html/body/div/div/div/main/article/div/div/form/div[4]/button[1]\").click()"
   ]
  },
  {
   "cell_type": "code",
   "execution_count": null,
   "metadata": {},
   "outputs": [],
   "source": [
    "_login(wd, login=0)"
   ]
  },
  {
   "cell_type": "code",
   "execution_count": null,
   "metadata": {},
   "outputs": [],
   "source": [
    "# strategy name\n",
    "\n",
    "if not strategy_name:\n",
    "    now = datetime.now().strftime(\"%y%m%d_%H_%M_%S\")\n",
    "    strategy_name = f\"test_{now}\"\n",
    "print(f\"Strategy name: {strategy_name}\")\n",
    "\n",
    "# Enter the strategy name\n",
    "strategy_name_xpath = \"/html/body/div[1]/div/div[2]/div[1]/div/div[1]/input\"\n",
    "elm_strategy_name = wd.find_element(By.XPATH, strategy_name_xpath)\n",
    "elm_strategy_name.send_keys(strategy_name)\n",
    "variables[\"strategy_name\"] = strategy_name"
   ]
  },
  {
   "cell_type": "code",
   "execution_count": null,
   "metadata": {},
   "outputs": [],
   "source": [
    "# 유티버스 선택\n",
    "\n",
    "d = {\n",
    "    0: \"한국\",\n",
    "    1: \"미국\",\n",
    "    2: \"KOSPI\",\n",
    "    3: \"KOSDAQ\",\n",
    "}\n",
    "if not universe:\n",
    "    keys = list(d.keys())\n",
    "    universe = random.randint(min(keys), max(keys))\n",
    "    variables[\"universe\"] = d[universe]\n",
    "\n",
    "print(f\"Universe: {d[universe]}\")\n",
    "\n",
    "wd.find_element(By.CLASS_NAME, \"css-cy3vpx\").click()\n",
    "universes = wd.find_elements(By.CLASS_NAME, \"css-zf30n6\")\n",
    "\n",
    "universe = universes[universe]\n",
    "universe.click()"
   ]
  },
  {
   "cell_type": "code",
   "execution_count": null,
   "metadata": {},
   "outputs": [],
   "source": [
    "wd.refresh()\n",
    "variables = {}"
   ]
  },
  {
   "cell_type": "code",
   "execution_count": null,
   "metadata": {},
   "outputs": [],
   "source": [
    "soup = BeautifulSoup(wd.page_source, \"lxml\")\n",
    "filter_sector_class = \"css-192m3r6\"\n",
    "\n",
    "filters = soup.find(\"div\", \"css-i2b1or\").find_all(\"div\", filter_sector_class)\n",
    "sectors = soup.find(\"div\", \"css-16ww4h3\").find_all(\"div\", filter_sector_class)\n",
    "len_filters = len(filters)\n",
    "\n",
    "# 기본 필터 & 제외할 섹터 elements\n",
    "removed_elms = wd.find_elements(By.CLASS_NAME, filter_sector_class)\n",
    "\n",
    "if not removed_filters:\n",
    "    removed_filters = random.sample(filters, random.randint(0, len(filters)))\n",
    "variables[\"removed_filters\"] = []\n",
    "for filter in removed_filters:\n",
    "    variables[\"removed_filters\"].append(filter.text.strip())\n",
    "    i = filters.index(filter)\n",
    "    removed_elms[i].click()\n",
    "\n",
    "if not removed_sectors:\n",
    "    removed_sectors = random.sample(sectors, random.randint(0, len(sectors)))\n",
    "variables[\"removed_sectors\"] = []\n",
    "for sector in removed_sectors:\n",
    "    variables[\"removed_sectors\"].append(sector.text.strip())\n",
    "    i = sectors.index(sector) + len_filters\n",
    "    removed_elms[i].click()\n",
    "\n",
    "\n",
    "# # check filter\n",
    "# i = 0\n",
    "# variables[\"removed_filter\"] = []\n",
    "# for filter in filters:\n",
    "#     c = round(random.random(), 0)\n",
    "#     if c == 1:\n",
    "#         elm_filter_sector[i].click()\n",
    "#         filter = filter.text\n",
    "#         variables[\"removed_filter\"].append(filter)\n",
    "#     i += 1\n",
    "    \n",
    "# time.sleep(3)\n",
    "\n",
    "# # check sector \n",
    "# variables[\"removed_sector\"] = []\n",
    "# for sector in sectors:\n",
    "#     c = round(random.random(), 0)\n",
    "#     if c == 1:\n",
    "#         elm_filter_sector[i].click()\n",
    "#         sector = sector.text\n",
    "#         variables[\"removed_sector\"].append(sector)\n",
    "#     i += 1"
   ]
  },
  {
   "cell_type": "code",
   "execution_count": null,
   "metadata": {},
   "outputs": [],
   "source": [
    "variables"
   ]
  },
  {
   "cell_type": "code",
   "execution_count": null,
   "metadata": {},
   "outputs": [],
   "source": [
    "# click '다음' button\n",
    "wd.find_element(By.CLASS_NAME, \"css-etpc0o\").click()"
   ]
  },
  {
   "cell_type": "code",
   "execution_count": null,
   "metadata": {},
   "outputs": [],
   "source": [
    "# factor 선택\n",
    "\n",
    "soup = BeautifulSoup(wd.page_source, \"lxml\")\n",
    "\n",
    "factor_area_class = \"css-kwx3if\"\n",
    "factor_kind_class = \"css-12hmsi2\"\n",
    "factor_elm_class = \"css-192m3r6\"\n",
    "\n",
    "factor_area = soup.find_all(\"div\", factor_area_class)\n",
    "elm_factors = wd.find_elements(By.CLASS_NAME, factor_elm_class)\n",
    "\n",
    "i = 0\n",
    "for fs in factor_area:\n",
    "    factor_kind = fs.find(\"div\", factor_kind_class).text.strip()\n",
    "    variables[factor_kind] = []\n",
    "    fs_nms = fs.find_all(\"div\", factor_elm_class)\n",
    "    for fs_nm in fs_nms:\n",
    "        c = round(random.random(), 0)\n",
    "        if c == 1:\n",
    "            fs_nm = fs_nm.text.strip().replace(\"?\", \"\")\n",
    "            variables[factor_kind].append(fs_nm)\n",
    "            elm_factors[i].click()\n",
    "            time.sleep(0.5)\n",
    "        i += 1"
   ]
  },
  {
   "cell_type": "code",
   "execution_count": null,
   "metadata": {},
   "outputs": [],
   "source": [
    "# click '다음' button\n",
    "wd.find_element(By.CLASS_NAME, \"css-etpc0o\").click()"
   ]
  },
  {
   "cell_type": "code",
   "execution_count": null,
   "metadata": {},
   "outputs": [],
   "source": [
    "# consts.py\n",
    "\n",
    "init_amounts = 2000 # 만원 단위\n",
    "fees = 1 # %(퍼센트)\n",
    "stock_counts = 10\n",
    "stop_loss = 26 # %(퍼센트)\n",
    "profit = 26 # %(퍼센트)\n",
    "\n",
    "rebalancing_period, rebalancing_method, rebalancing_strategy = None, None, None\n",
    "\n",
    "backtest_conditions_input = {\n",
    "    0: [\"초기 투자 금액\", init_amounts],\n",
    "    1: [\"거래 수수료\", fees],\n",
    "    2: [\"종목 수\", stock_counts],\n",
    "    3: [\"손절기준\", stop_loss],\n",
    "    4: [\"익절기준\", profit],\n",
    "    5: [\"리벨런싱 기간\", rebalancing_period]\n",
    "}"
   ]
  },
  {
   "cell_type": "code",
   "execution_count": null,
   "metadata": {},
   "outputs": [],
   "source": [
    "all_elms_class = \"css-cy3vpx\" # input box & select box\n",
    "\n",
    "''' input box\n",
    "0. 초기 투자 금액 *\n",
    "1. 거래 수수료 *\n",
    "2. 종목수 * (20으로 입력되어 있음)\n",
    "3. 손절기준 (입력안할 시 비활성화)\n",
    "4. 익절기준 (입력안할 시 비활성화)\n",
    "'''\n",
    "input_class = \"css-1tmhs6j\"\n",
    "\n",
    "''' select box\n",
    "5. 리밸런싱 기간 *\n",
    "6. 비중 조절 방법 * ('동일 비중'으로 지정되어 있음)\n",
    "7. 리밸런싱 전략 * ('분할 매수/매도'로 지정되어 있음)\n",
    "'''\n",
    "select_class = \"css-cy3vpx\"\n"
   ]
  },
  {
   "cell_type": "code",
   "execution_count": null,
   "metadata": {},
   "outputs": [],
   "source": [
    "wd.refresh()"
   ]
  },
  {
   "cell_type": "code",
   "execution_count": null,
   "metadata": {},
   "outputs": [],
   "source": [
    "all_elms = wd.find_elements(By.CLASS_NAME, all_elms_class)\n",
    "input_elms = wd.find_elements(By.CLASS_NAME, input_class)\n",
    "select_elms = wd.find_elements(By.CLASS_NAME, select_class)\n",
    "\n",
    "soup = BeautifulSoup(wd.page_source, \"lxml\")\n",
    "all_boxes = soup.find_all(\"div\", all_elms_class)\n",
    "\n",
    "i = 0\n",
    "for elm in input_elms:\n",
    "    cond, val = backtest_conditions_input[i]\n",
    "    variables[cond] = val\n",
    "    elm.clear()\n",
    "    time.sleep(1.5)\n",
    "    elm.send_keys(val)\n",
    "    if i == 1:\n",
    "        # 리밸런싱 기간 선택\n",
    "        pass\n",
    "    i += 1"
   ]
  },
  {
   "cell_type": "code",
   "execution_count": null,
   "metadata": {},
   "outputs": [],
   "source": [
    "# 리밸런싱 기간 선택\n",
    "wd.find_element(By.XPATH, \"/html/body/div[1]/div/div[2]/div[3]/div/div[6]/div[1]/div[2]/input\").click()\n",
    "\n",
    "d = {\n",
    "    1: \"월별\",\n",
    "    2: \"분기별\",\n",
    "    3: \"반기별\",\n",
    "    4: \"매년\",\n",
    "}\n",
    "\n",
    "# keys = list(d.keys())\n",
    "# j = random.randint(min(keys), max(keys))\n",
    "\n",
    "variables[\"rebalancing_period\"] = d[rebalancing_period]\n",
    "print(d[rebalancing_period])\n",
    "rebalancing_period_xpath = f\"/html/body/div[1]/div/div[2]/div[3]/div/div[6]/div[3]/div[{rebalancing_period}]/div/input\"\n",
    "wd.find_element(By.XPATH, rebalancing_period_xpath).click()\n",
    "time.sleep(1)"
   ]
  },
  {
   "cell_type": "code",
   "execution_count": null,
   "metadata": {},
   "outputs": [],
   "source": [
    "# save strategy\n",
    "save_button_class = \"css-1o923v9\"\n",
    "wd.find_element(By.CLASS_NAME, save_button_class).click()\n",
    "\n",
    "check_alert(wd)"
   ]
  },
  {
   "cell_type": "code",
   "execution_count": null,
   "metadata": {},
   "outputs": [],
   "source": [
    "# backtest\n",
    "backtest_button_class = \"css-etpc0o\"\n",
    "wd.find_element(By.CLASS_NAME, backtest_button_class).click()"
   ]
  },
  {
   "cell_type": "code",
   "execution_count": null,
   "metadata": {},
   "outputs": [],
   "source": [
    "wd.get_log(log_type=\"browser\")"
   ]
  },
  {
   "cell_type": "code",
   "execution_count": null,
   "metadata": {},
   "outputs": [],
   "source": [
    "from selenium.common.exceptions import NoSuchElementException\n",
    "\n",
    "def check_alert(wd):\n",
    "    alert_classes = [\n",
    "        \"css-1x7ny0l\",\n",
    "        \"css-1aq7lc0\",\n",
    "        \"css-1t6s947\",\n",
    "    ]\n",
    "    check_classes = [\n",
    "        \"css-1lcj2w\",\n",
    "        \"css-73nldo\",\n",
    "        \"css-1lcj2w\",\n",
    "        \"css-28mzi7\"\n",
    "    ]\n",
    "\n",
    "    soup = BeautifulSoup(wd.page_source, \"lxml\")\n",
    "    alert_msg = None\n",
    "    i = 0\n",
    "    ck = False\n",
    "    while i < len(alert_classes):\n",
    "        alert_area = soup.find(\"div\", alert_classes[i])\n",
    "        if alert_area:\n",
    "            alert_msg = alert_area.text\n",
    "            j = 0\n",
    "            while j < len(check_classes):\n",
    "                check_class = check_classes[j]\n",
    "                check_btn = alert_area.find(\"div\", check_class)\n",
    "                if check_btn:\n",
    "                    wd.find_element(By.CLASS_NAME, check_class).click()\n",
    "                    ck = True\n",
    "                    break\n",
    "                j += 1\n",
    "            \n",
    "            if ck:\n",
    "                break\n",
    "        i += 1\n",
    "    \n",
    "    return alert_msg\n",
    "        \n",
    "    \n",
    "    \n",
    "    # if soup.find(\"div\", alert_class_0):\n",
    "    #     alert_msg = soup.find(\"div\", alert_class_0).text[:-2]\n",
    "    #     wd.find_element(By.CLASS_NAME, alert_check_class_0).click()\n",
    "    # elif soup.find(\"div\", alert_class_1):\n",
    "    #     try:\n",
    "    #         alert_msg = soup.find(\"div\", alert_class_1).text[:-4]\n",
    "    #         wd.find_element(By.CLASS_NAME, alert_check_class_1).click()\n",
    "    #     except NoSuchElementException:\n",
    "    #         alert_msg = soup.find(\"div\", alert_class_1).text[:-2]\n",
    "    #         wd.find_element(By.CLASS_NAME, alert_check_class_2).click()\n",
    "    # else:\n",
    "    #     alert_msg = None \n",
    "    \n",
    "    # return alert_msg"
   ]
  },
  {
   "cell_type": "code",
   "execution_count": null,
   "metadata": {},
   "outputs": [],
   "source": [
    "check_alert(wd)"
   ]
  },
  {
   "cell_type": "code",
   "execution_count": null,
   "metadata": {},
   "outputs": [],
   "source": [
    "# go to strategy page\n",
    "wd.get(\"https://v2.quantus.kr/mypage/strategy\")\n",
    "\n",
    "# 가장 최근 전략 적용\n",
    "wd.find_element(By.CLASS_NAME, \"orange_button\").click()\n",
    "\n",
    "# alert box 처리\n",
    "variables[\"alert_msg\"] = []\n",
    "variables[\"alert_msg\"].append(check_alert(wd))\n",
    "variables[\"alert_msg\"].append(check_alert(wd))"
   ]
  },
  {
   "cell_type": "code",
   "execution_count": null,
   "metadata": {},
   "outputs": [],
   "source": [
    "# wd.get(\"https://v2.quantus.kr/backtest/backtest\")\n",
    "wd.find_element(By.CLASS_NAME, \"css-o80j1r\").click()"
   ]
  },
  {
   "cell_type": "code",
   "execution_count": null,
   "metadata": {},
   "outputs": [],
   "source": [
    "# click '다음' button\n",
    "wd.find_element(By.CLASS_NAME, \"css-etpc0o\").click()"
   ]
  },
  {
   "cell_type": "code",
   "execution_count": null,
   "metadata": {},
   "outputs": [],
   "source": [
    "# backtest\n",
    "backtest_button_class = \"css-etpc0o\"\n",
    "wd.find_element(By.CLASS_NAME, backtest_button_class).click()"
   ]
  },
  {
   "cell_type": "code",
   "execution_count": null,
   "metadata": {},
   "outputs": [],
   "source": [
    "wd.quit()"
   ]
  },
  {
   "cell_type": "code",
   "execution_count": null,
   "metadata": {},
   "outputs": [],
   "source": [
    "# click '포트폴리오 추출' 메뉴\n",
    "\n",
    "wd.find_element(By.CLASS_NAME, \"css-dgyndo\").click()"
   ]
  },
  {
   "attachments": {},
   "cell_type": "markdown",
   "metadata": {},
   "source": [
    "---\n",
    "#### Test: logging"
   ]
  },
  {
   "cell_type": "code",
   "execution_count": null,
   "metadata": {},
   "outputs": [],
   "source": [
    "import os\n",
    "import re\n",
    "import sys\n",
    "import time\n",
    "import json\n",
    "import socket\n",
    "import requests\n",
    "# import pickle\n",
    "import numpy as np\n",
    "import pandas as pd\n",
    "\n",
    "# Scrapping\n",
    "from bs4 import BeautifulSoup\n",
    "from seleniumwire import webdriver\n",
    "from user_agent import generate_user_agent\n",
    "from selenium.webdriver.common.by import By\n",
    "from selenium.webdriver.common.keys import Keys\n",
    "# from selenium.webdriver.common.alert import Alert\n",
    "from selenium.webdriver.chrome.options import Options\n",
    "# from selenium.webdriver.support.ui import WebDriverWait\n",
    "from webdriver_manager.chrome import ChromeDriverManager\n",
    "from selenium.webdriver.common.desired_capabilities import DesiredCapabilities\n",
    "\n",
    "def get_url_log(url, window=False, image=False, limit=1):\n",
    "    ''' Set up webdriver, useragent & Get url '''\n",
    "    \n",
    "    wd = None\n",
    "    socket.setdefaulttimeout(30)\n",
    "    # url parsing 시도횟수\n",
    "    attempts = 0 \n",
    "    # limit회 이상 parsing 실패시 pass\n",
    "    while attempts < limit:\n",
    "        # try:  \n",
    "        attempts += 1\n",
    "        # user agent\n",
    "        options = Options() \n",
    "        userAgent = generate_user_agent(os=('mac', 'linux'), navigator='chrome', device_type='desktop')\n",
    "        options.add_argument('window-size=1920x1080')\n",
    "        options.add_argument(\"--disable-gpu\")\n",
    "        options.add_argument('--disable-extensions')\n",
    "        options.add_argument(f'user-agent={userAgent}')\n",
    "        options.add_argument(\"--start-fullscreen\")\n",
    "        \n",
    "        if not window:\n",
    "            options.add_argument('headless')\n",
    "        if not image:\n",
    "            options.add_argument('--blink-settings=imagesEnabled=false')\n",
    "\n",
    "        dc = DesiredCapabilities.CHROME\n",
    "        #log 종류는 OFF, SEVERE, WARNING, INFO, DEBUG, ALL 존재\n",
    "        dc['goog:loggingPrefs'] = {'browser': 'ALL'}\n",
    "        # web driver \n",
    "        wd = webdriver.Chrome(ChromeDriverManager().install(), chrome_options=options, desired_capabilities=dc)\n",
    "        wd.get(url)\n",
    "        wd.implicitly_wait(5)\n",
    "        break\n",
    "\n",
    "        # # 예외처리\n",
    "        # except Exception as e:\n",
    "        #     print(f'\\n\\nError: {str(e)}\\n\\n')\n",
    "            \n",
    "        #     # time.sleep(60)\n",
    "        #     try:\n",
    "        #         wd.quit()\n",
    "        #     except:\n",
    "        #         pass\n",
    "        #     wd = None\n",
    "    return wd"
   ]
  },
  {
   "cell_type": "code",
   "execution_count": null,
   "metadata": {},
   "outputs": [],
   "source": [
    "wd = get_url_log(url, True, True)"
   ]
  },
  {
   "cell_type": "code",
   "execution_count": null,
   "metadata": {},
   "outputs": [],
   "source": [
    "wd.get_log(log_type=\"browser\")"
   ]
  },
  {
   "cell_type": "code",
   "execution_count": null,
   "metadata": {},
   "outputs": [],
   "source": [
    "_requests = wd.requests"
   ]
  },
  {
   "cell_type": "code",
   "execution_count": null,
   "metadata": {},
   "outputs": [],
   "source": [
    "i = 0\n",
    "for r in _requests:\n",
    "    res =  _requests[i].response\n",
    "    if res is None:\n",
    "        pass\n",
    "    elif res.status_code == 404:\n",
    "        break\n",
    "    i += 1"
   ]
  },
  {
   "cell_type": "code",
   "execution_count": null,
   "metadata": {},
   "outputs": [],
   "source": [
    "# factor scraping\n",
    "\n",
    "variables = {}\n",
    "soup = BeautifulSoup(wd.page_source, \"lxml\")\n",
    "\n",
    "factor_area_class = \"css-kwx3if\"\n",
    "factor_kind_class = \"css-12hmsi2\"\n",
    "factor_elm_class = \"css-1z2md3\"\n",
    "available_factor_class = \"css-192m3r6\"\n",
    "\n",
    "factor_area = soup.find_all(\"div\", factor_area_class)\n",
    "elm_factors = wd.find_elements(By.CLASS_NAME, factor_elm_class)\n",
    "\n",
    "i = 0\n",
    "for fs in factor_area:\n",
    "    factor_kind = fs.find(\"div\", factor_kind_class).text.strip()\n",
    "    variables[factor_kind] = {}\n",
    "    variables[factor_kind][\"unavailable\"] = []\n",
    "    fs_nms = fs.find_all(\"div\", factor_elm_class)\n",
    "    for fs_nm in fs_nms:\n",
    "        _fs_nm = fs_nm.text.strip().replace(\"?\", \"\")\n",
    "        if fs_nm.find(\"div\", available_factor_class):\n",
    "            variables[factor_kind][i] = _fs_nm\n",
    "            i += 1\n",
    "        else:\n",
    "            variables[factor_kind][\"unavailable\"].append(_fs_nm)\n",
    "            # variables[factor_kind].append([_fs_nm, \"unavailable\"])"
   ]
  },
  {
   "cell_type": "code",
   "execution_count": null,
   "metadata": {},
   "outputs": [],
   "source": [
    "variables"
   ]
  },
  {
   "cell_type": "code",
   "execution_count": null,
   "metadata": {},
   "outputs": [],
   "source": []
  },
  {
   "attachments": {},
   "cell_type": "markdown",
   "metadata": {},
   "source": [
    "---\n",
    "### Test: 백테스트, 포트추출"
   ]
  },
  {
   "cell_type": "code",
   "execution_count": null,
   "metadata": {},
   "outputs": [],
   "source": [
    "from test import *\n",
    "from settings import filter_conditions\n",
    "filter_conditions"
   ]
  },
  {
   "cell_type": "code",
   "execution_count": null,
   "metadata": {},
   "outputs": [],
   "source": [
    "def test_back_port(wd, kind: int = None, **kwargs):\n",
    "    \n",
    "    if not kind:\n",
    "        kind = random.randint(0, 1)\n",
    "    elif kind == 0:\n",
    "        # backtest\n",
    "        wd.get(\"https://v2.quantus.kr/backtest/universe\")\n",
    "        kind = \"backtest\"\n",
    "    elif kind == 1:\n",
    "        # port \n",
    "        wd.get(\"https://v2.quantus.kr/port/universe\")\n",
    "        kind = \"port\"\n",
    "    else:\n",
    "        raise TypeError(\"올바른 kind(0: backtest, 1: port)를 입력하세요\")\n",
    "    \n",
    "    print(kind)\n",
    "    # 유니버스 선택\n",
    "    select_universe(wd, kwargs[\"strategy_name\"], kwargs[\"universe\"], kwargs[\"removed_filters\"], kwargs[\"removed_sectors\"])\n",
    "    time.sleep(2)\n",
    "    click_next_btn(wd)\n",
    "\n",
    "    # 팩터 선택\n",
    "    select_factors(wd, kwargs[\"factors\"])\n",
    "    time.sleep(2)\n",
    "    click_next_btn(wd)\n",
    "\n",
    "    set_conditions(wd, **kwargs[\"conditions\"])\n",
    "        \n",
    "    # 전략 저장\n",
    "    save_strategy(wd)\n",
    "    check_alert(wd)\n",
    "    time.sleep(1.5)\n",
    "    \n",
    "    # 백테스트 or 포트추출 실행\n",
    "    backtest(wd)\n",
    "    \n",
    "    variables['logs'] = wd.get_log(log_type=\"browser\")\n",
    "    return variables"
   ]
  },
  {
   "cell_type": "code",
   "execution_count": null,
   "metadata": {},
   "outputs": [],
   "source": [
    "wd.quit()"
   ]
  },
  {
   "cell_type": "code",
   "execution_count": null,
   "metadata": {},
   "outputs": [],
   "source": [
    "time.sleep(1.5)\n",
    "url = \"https://v2.quantus.kr/\"\n",
    "wd = get_url(url, window=True, image=True, logging=True)\n",
    "time.sleep(3.5)\n",
    "\n",
    "# 로그인\n",
    "sign_in(wd, filter_conditions[\"login\"], filter_conditions[\"email\"], filter_conditions[\"pw\"])"
   ]
  },
  {
   "cell_type": "code",
   "execution_count": null,
   "metadata": {},
   "outputs": [],
   "source": [
    "kinds = [0, 1, 0, 1]\n",
    "kinds = [0]\n",
    "variables_list = []\n",
    "for kind in kinds:\n",
    "    variables = test_back_port(wd, kind, **filter_conditions)\n",
    "    variables_list.append(variables)\n",
    "    reset(wd)"
   ]
  },
  {
   "cell_type": "code",
   "execution_count": null,
   "metadata": {},
   "outputs": [],
   "source": [
    "variables"
   ]
  },
  {
   "cell_type": "code",
   "execution_count": null,
   "metadata": {},
   "outputs": [],
   "source": [
    "reset(wd)\n",
    "variables = test_back_port(wd, kind=0, **filter_conditions)"
   ]
  },
  {
   "cell_type": "code",
   "execution_count": null,
   "metadata": {},
   "outputs": [],
   "source": [
    "wd.current_url"
   ]
  },
  {
   "cell_type": "code",
   "execution_count": null,
   "metadata": {},
   "outputs": [],
   "source": [
    "# 유니버스 선택\n",
    "select_universe(wd)\n",
    "time.sleep(2)\n",
    "click_next_btn(wd)\n",
    "\n",
    "# 팩터 선택\n",
    "select_factors(wd)\n",
    "time.sleep(2)\n",
    "click_next_btn(wd)\n",
    "\n",
    "set_conditions(wd, **conditions)"
   ]
  },
  {
   "cell_type": "code",
   "execution_count": null,
   "metadata": {},
   "outputs": [],
   "source": [
    "# 전략 저장\n",
    "save_strategy(wd)\n",
    "check_alert(wd)\n",
    "\n",
    "# 백테스트 or 포트추출 실행\n",
    "backtest(wd)"
   ]
  },
  {
   "cell_type": "code",
   "execution_count": null,
   "metadata": {},
   "outputs": [],
   "source": [
    "variables['logs'] = wd.get_log(log_type=\"browser\")\n",
    "variables_list.append(variables)"
   ]
  },
  {
   "cell_type": "code",
   "execution_count": null,
   "metadata": {},
   "outputs": [],
   "source": [
    "print(wd.get_log(log_type=\"browser\"))\n",
    "# check_alert(wd)"
   ]
  },
  {
   "cell_type": "code",
   "execution_count": null,
   "metadata": {},
   "outputs": [],
   "source": [
    "reset(wd)"
   ]
  },
  {
   "cell_type": "code",
   "execution_count": null,
   "metadata": {},
   "outputs": [],
   "source": [
    "wd.refresh()"
   ]
  },
  {
   "cell_type": "code",
   "execution_count": null,
   "metadata": {},
   "outputs": [],
   "source": [
    "wd.quit()"
   ]
  },
  {
   "attachments": {},
   "cell_type": "markdown",
   "metadata": {},
   "source": [
    "---\n",
    "#### get data"
   ]
  },
  {
   "cell_type": "code",
   "execution_count": null,
   "metadata": {},
   "outputs": [],
   "source": [
    "def read_result(kind):\n",
    "    for p in sys.path:\n",
    "        if \"Users\" in p: \n",
    "            user_name = p.split(\"/\")[2]    \n",
    "            download_dir = f\"/Users/{user_name}/Downloads\"\n",
    "            break\n",
    "\n",
    "    files = os.listdir(download_dir)\n",
    "    files = [os.path.join(download_dir, f) for f in files]\n",
    "    \n",
    "    # 생성일자 기준 정렬\n",
    "    files.sort(key=lambda x: os.path.getmtime(x))\n",
    "\n",
    "    if kind == 0:\n",
    "        # backtest\n",
    "        path = [f for f in files if f.endswith(\".html\")][-1]\n",
    "        \n",
    "        _wd = get_url(\"file://\" + path)\n",
    "        soup = BeautifulSoup(_wd.page_source, \"lxml\")\n",
    "        _wd.quit()\n",
    "        \n",
    "        tbl = soup.find(\"div\", {\"id\": \"right\"}).find(\"table\")\n",
    "        tbl_trs = tbl.find_all(\"tr\")\n",
    "\n",
    "        results = {}\n",
    "        # Cumulative Return\n",
    "        tbl_tr_td = tbl_trs[4].find_all(\"td\")\n",
    "        results[tbl_tr_td[0].text] = tbl_tr_td[1].text\n",
    "        # CAGR\n",
    "        tbl_tr_td = tbl_trs[5].find_all(\"td\")\n",
    "        results[tbl_tr_td[0].text] = tbl_tr_td[1].text\n",
    "        # Max Drawdown\t\n",
    "        tbl_tr_td = tbl_trs[15].find_all(\"td\")\n",
    "        results[tbl_tr_td[0].text] = tbl_tr_td[1].text\n",
    "        \n",
    "    elif kind == 1:\n",
    "        # port extraction\n",
    "        path = [f for f in files if f.endswith(\".csv\")][-1]\n",
    "        df = pd.read_csv(path)\n",
    "        print(df)\n",
    "        results = df[\"Name\"].tolist()\n",
    "        \n",
    "    return results\n"
   ]
  },
  {
   "cell_type": "code",
   "execution_count": null,
   "metadata": {},
   "outputs": [],
   "source": [
    "for p in sys.path:\n",
    "    if \"Users\" in p:\n",
    "        user_name = p.split(\"/\")[2]\n",
    "        download_dir = f\"/Users/{user_name}/Downloads\"\n",
    "        break\n",
    "    \n",
    "download_dir"
   ]
  },
  {
   "cell_type": "code",
   "execution_count": null,
   "metadata": {},
   "outputs": [],
   "source": [
    "files = os.listdir(download_dir)\n",
    "files = [os.path.join(download_dir, f) for f in files]"
   ]
  },
  {
   "cell_type": "code",
   "execution_count": null,
   "metadata": {},
   "outputs": [],
   "source": [
    "files.sort(key=lambda x: os.path.getmtime(x))\n",
    "files"
   ]
  },
  {
   "cell_type": "code",
   "execution_count": null,
   "metadata": {},
   "outputs": [],
   "source": [
    "wd.quit()"
   ]
  },
  {
   "cell_type": "code",
   "execution_count": null,
   "metadata": {},
   "outputs": [],
   "source": [
    "path = read_result(0)\n",
    "\n",
    "\n",
    "_wd = get_url(\"file://\" + path)\n",
    "soup = BeautifulSoup(_wd.page_source, \"lxml\")\n",
    "_wd.quit()\n",
    "\n",
    "tbl = soup.find(\"div\", {\"id\": \"right\"}).find(\"table\")\n",
    "tbl_trs = tbl.find_all(\"tr\")\n",
    "\n",
    "results = {}\n",
    "\n",
    "# Cumulative Return\n",
    "tbl_tr_td = tbl_trs[4].find_all(\"td\")\n",
    "results[tbl_tr_td[0].text] = tbl_tr_td[1].text\n",
    "\n",
    "# CAGR\n",
    "tbl_tr_td = tbl_trs[5].find_all(\"td\")\n",
    "results[tbl_tr_td[0].text] = tbl_tr_td[1].text\n",
    "\n",
    "# Max Drawdown\t\n",
    "tbl_tr_td = tbl_trs[15].find_all(\"td\")\n",
    "results[tbl_tr_td[0].text] = tbl_tr_td[1].text\n",
    "\n",
    "results"
   ]
  },
  {
   "attachments": {},
   "cell_type": "markdown",
   "metadata": {},
   "source": [
    "---\n",
    "### Test: factors"
   ]
  },
  {
   "cell_type": "code",
   "execution_count": null,
   "metadata": {},
   "outputs": [],
   "source": [
    "factors = [1, 2, 63]"
   ]
  },
  {
   "cell_type": "code",
   "execution_count": null,
   "metadata": {},
   "outputs": [],
   "source": [
    "variables = {}\n",
    "\n",
    "factor_area_class = \"css-kwx3if\"\n",
    "factor_kind_class = \"css-12hmsi2\"\n",
    "factor_elm_class = \"css-192m3r6\"\n",
    "\n",
    "soup = BeautifulSoup(wd.page_source, \"lxml\")\n",
    "factor_area = soup.find_all(\"div\", factor_area_class)\n",
    "elm_factors = wd.find_elements(By.CLASS_NAME, factor_elm_class)\n",
    "factor_nms = soup.find_all(\"div\", factor_elm_class)\n",
    "\n",
    "factor_kinds = {}\n",
    "for fs in factor_area:\n",
    "    factor_kind = fs.find(\"div\", factor_kind_class).text.strip()\n",
    "    variables[factor_kind] = []\n",
    "    nms = fs.find_all(\"div\", factor_elm_class)\n",
    "    factor_kinds[factor_kind] = [nm.text.replace(\"?\", \"\").strip() for nm in nms]\n",
    "    \n",
    "if len(factors) == 0:\n",
    "    factors = random.sample(range(len(elm_factors)), random.randint(0, len(elm_factors)))\n",
    "    \n",
    "    \n",
    "for i in factors:\n",
    "    elm_factor = elm_factors[i]\n",
    "    elm_factor.click()\n",
    "    time.sleep(0.25)\n",
    "    factor = factor_nms[i].text.replace(\"?\", \"\").strip()\n",
    "    \n",
    "    for k, v in factor_kinds.items():\n",
    "        if factor in v:\n",
    "            variables[k].append(factor)\n",
    "            break"
   ]
  },
  {
   "cell_type": "code",
   "execution_count": null,
   "metadata": {},
   "outputs": [],
   "source": [
    "variables"
   ]
  },
  {
   "cell_type": "code",
   "execution_count": null,
   "metadata": {},
   "outputs": [],
   "source": [
    "factor_kinds"
   ]
  },
  {
   "attachments": {},
   "cell_type": "markdown",
   "metadata": {},
   "source": [
    "---\n",
    "### Test: 마이페이지"
   ]
  },
  {
   "cell_type": "code",
   "execution_count": null,
   "metadata": {},
   "outputs": [],
   "source": [
    "# wd.get(\"https://v2.quantus.kr/mypage\")"
   ]
  },
  {
   "cell_type": "code",
   "execution_count": null,
   "metadata": {},
   "outputs": [],
   "source": [
    "# '마이페이지'\n",
    "wd.find_element(By.CLASS_NAME, \"css-1r42moo\").click()"
   ]
  },
  {
   "cell_type": "code",
   "execution_count": null,
   "metadata": {},
   "outputs": [],
   "source": [
    "# '전략조회'\n",
    "wd.find_element(By.XPATH, \"/html/body/div[1]/div/div[2]/div/div/div[1]/div[2]/button[2]\").click()"
   ]
  },
  {
   "cell_type": "code",
   "execution_count": null,
   "metadata": {},
   "outputs": [],
   "source": [
    "# 가장 최근에 저장한 전략 적용\n",
    "wd.find_element(By.CLASS_NAME, \"orange_button\").click()\n",
    "check_alert(wd)\n",
    "check_alert(wd)"
   ]
  },
  {
   "cell_type": "code",
   "execution_count": null,
   "metadata": {},
   "outputs": [],
   "source": []
  },
  {
   "cell_type": "code",
   "execution_count": null,
   "metadata": {},
   "outputs": [],
   "source": []
  },
  {
   "cell_type": "code",
   "execution_count": null,
   "metadata": {},
   "outputs": [],
   "source": []
  }
 ],
 "metadata": {
  "kernelspec": {
   "display_name": "venv",
   "language": "python",
   "name": "python3"
  },
  "language_info": {
   "codemirror_mode": {
    "name": "ipython",
    "version": 3
   },
   "file_extension": ".py",
   "mimetype": "text/x-python",
   "name": "python",
   "nbconvert_exporter": "python",
   "pygments_lexer": "ipython3",
   "version": "3.11.1"
  },
  "orig_nbformat": 4,
  "vscode": {
   "interpreter": {
    "hash": "0934967f0403ca4943d8f4fa52275ade42772e3bf9101dfc6c691338049fba31"
   }
  }
 },
 "nbformat": 4,
 "nbformat_minor": 2
}
