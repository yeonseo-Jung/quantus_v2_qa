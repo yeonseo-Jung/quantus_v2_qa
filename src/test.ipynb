{
 "cells": [
  {
   "cell_type": "code",
   "execution_count": 1,
   "metadata": {},
   "outputs": [],
   "source": [
    "import os\n",
    "import sys\n",
    "import random\n",
    "from qa.run import QATests\n",
    "\n",
    "# abs path\n",
    "cur_dir = os.path.dirname(os.path.realpath(\"__file__\"))\n",
    "root = os.path.abspath(os.path.join(cur_dir, os.pardir))\n",
    "sys.path.append(root)\n",
    "\n",
    "from settings import filter_conditions\n",
    "from db.conn import AccessDataBase\n",
    "\n",
    "db = AccessDataBase(\"quantus_test\")"
   ]
  },
  {
   "cell_type": "code",
   "execution_count": 2,
   "metadata": {},
   "outputs": [],
   "source": [
    "qat = QATests(env=\"dev\", filter_conditions=filter_conditions)"
   ]
  },
  {
   "cell_type": "code",
   "execution_count": 3,
   "metadata": {},
   "outputs": [
    {
     "name": "stdout",
     "output_type": "stream",
     "text": [
      "Strategy name: test_230119_16_59_34\n",
      "Universe: 한국\n",
      "ALERT: 전략 저장 완료\"test_230119_16_59_34\" 전략 저장이 완료되었습니다. 저장된 전략은 “마이페이지-전략 조회” 에서 조회 가능합니다.\n",
      "\n",
      "Table Upload Success: `qa_test_results`\n",
      "Strategy name: test_230119_17_02_40\n",
      "Universe: 한국\n",
      "ALERT: 전략 저장 완료\"test_230119_17_02_40\" 전략 저장이 완료되었습니다. 저장된 전략은 “마이페이지-전략 조회” 에서 조회 가능합니다.\n",
      "\n",
      "Table Upload Success: `qa_test_results`\n",
      "Strategy name: test_230119_17_05_48\n",
      "Universe: 한국\n",
      "ALERT: 전략 저장 완료\"test_230119_17_05_48\" 전략 저장이 완료되었습니다. 저장된 전략은 “마이페이지-전략 조회” 에서 조회 가능합니다.\n",
      "\n",
      "Table Upload Success: `qa_test_results`\n",
      "Strategy name: test_230119_17_08_56\n",
      "Universe: 한국\n",
      "ALERT: 전략 저장 완료\"test_230119_17_08_56\" 전략 저장이 완료되었습니다. 저장된 전략은 “마이페이지-전략 조회” 에서 조회 가능합니다.\n",
      "\n",
      "Table Upload Success: `qa_test_results`\n",
      "Strategy name: test_230119_17_12_02\n",
      "Universe: 한국\n",
      "ALERT: 전략 저장 완료\"test_230119_17_12_02\" 전략 저장이 완료되었습니다. 저장된 전략은 “마이페이지-전략 조회” 에서 조회 가능합니다.\n",
      "\n",
      "Table Upload Success: `qa_test_results`\n",
      "Strategy name: test_230119_17_15_09\n",
      "Universe: 한국\n",
      "ALERT: 전략 저장 완료\"test_230119_17_15_09\" 전략 저장이 완료되었습니다. 저장된 전략은 “마이페이지-전략 조회” 에서 조회 가능합니다.\n",
      "\n",
      "Table Upload Success: `qa_test_results`\n",
      "Strategy name: test_230119_17_18_26\n",
      "Universe: 한국\n",
      "ALERT: 전략 저장 완료\"test_230119_17_18_26\" 전략 저장이 완료되었습니다. 저장된 전략은 “마이페이지-전략 조회” 에서 조회 가능합니다.\n",
      "\n",
      "Table Upload Success: `qa_test_results`\n",
      "Strategy name: test_230119_17_21_42\n",
      "Universe: 한국\n",
      "ALERT: 전략 저장 완료\"test_230119_17_21_42\" 전략 저장이 완료되었습니다. 저장된 전략은 “마이페이지-전략 조회” 에서 조회 가능합니다.\n",
      "\n",
      "Table Upload Success: `qa_test_results`\n",
      "Strategy name: test_230119_17_24_49\n",
      "Universe: 한국\n",
      "ALERT: 전략 저장 완료\"test_230119_17_24_49\" 전략 저장이 완료되었습니다. 저장된 전략은 “마이페이지-전략 조회” 에서 조회 가능합니다.\n",
      "\n",
      "Table Upload Success: `qa_test_results`\n",
      "Strategy name: test_230119_17_28_05\n",
      "Universe: 한국\n",
      "ALERT: 전략 저장 완료\"test_230119_17_28_05\" 전략 저장이 완료되었습니다. 저장된 전략은 “마이페이지-전략 조회” 에서 조회 가능합니다.\n",
      "\n",
      "Table Upload Success: `qa_test_results`\n",
      "Strategy name: test_230119_17_31_13\n",
      "Universe: 한국\n",
      "ALERT: 전략 저장 완료\"test_230119_17_31_13\" 전략 저장이 완료되었습니다. 저장된 전략은 “마이페이지-전략 조회” 에서 조회 가능합니다.\n",
      "\n",
      "Table Upload Success: `qa_test_results`\n",
      "Strategy name: test_230119_17_34_30\n",
      "Universe: 한국\n",
      "ALERT: 전략 저장 완료\"test_230119_17_34_30\" 전략 저장이 완료되었습니다. 저장된 전략은 “마이페이지-전략 조회” 에서 조회 가능합니다.\n",
      "\n",
      "Table Upload Success: `qa_test_results`\n"
     ]
    }
   ],
   "source": [
    "factor_counts = 67\n",
    "\n",
    "i = 0\n",
    "cnt = 12\n",
    "while i < cnt:\n",
    "    filter_conditions[\"factors\"] = random.sample(range(factor_counts), 12)\n",
    "    qat.init_filter(filter_conditions)\n",
    "    qat.testing()\n",
    "    qat.upload()\n",
    "    i += 1"
   ]
  },
  {
   "cell_type": "code",
   "execution_count": null,
   "metadata": {},
   "outputs": [],
   "source": []
  }
 ],
 "metadata": {
  "kernelspec": {
   "display_name": "venv",
   "language": "python",
   "name": "python3"
  },
  "language_info": {
   "codemirror_mode": {
    "name": "ipython",
    "version": 3
   },
   "file_extension": ".py",
   "mimetype": "text/x-python",
   "name": "python",
   "nbconvert_exporter": "python",
   "pygments_lexer": "ipython3",
   "version": "3.11.1"
  },
  "orig_nbformat": 4,
  "vscode": {
   "interpreter": {
    "hash": "0934967f0403ca4943d8f4fa52275ade42772e3bf9101dfc6c691338049fba31"
   }
  }
 },
 "nbformat": 4,
 "nbformat_minor": 2
}
