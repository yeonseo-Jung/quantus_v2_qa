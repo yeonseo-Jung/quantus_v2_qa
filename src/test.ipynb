{
 "cells": [
  {
   "cell_type": "code",
   "execution_count": 1,
   "metadata": {},
   "outputs": [],
   "source": [
    "import os\n",
    "import sys\n",
    "import random\n",
    "from qa.run import QATests\n",
    "\n",
    "# abs path\n",
    "# cur_dir = os.path.dirname(os.path.realpath(\"__file__\"))\n",
    "# root = os.path.abspath(os.path.join(cur_dir, os.pardir))\n",
    "# sys.path.append(root)\n",
    "\n",
    "from settings import filter_conditions\n",
    "from db.conn import AccessDataBase\n",
    "from crawling.scraper import QuantusScraper\n",
    "\n",
    "db = AccessDataBase(\"quantus_test\")"
   ]
  },
  {
   "cell_type": "code",
   "execution_count": 2,
   "metadata": {},
   "outputs": [],
   "source": [
    "# init page & login\n",
    "env = \"dev\"\n",
    "qat = QATests(env, filter_conditions=filter_conditions)"
   ]
  },
  {
   "cell_type": "code",
   "execution_count": null,
   "metadata": {},
   "outputs": [],
   "source": [
    "# 모든 전략 삭제\n",
    "# qat.qqa.remove_startegies(qat.wd)"
   ]
  },
  {
   "cell_type": "code",
   "execution_count": null,
   "metadata": {},
   "outputs": [],
   "source": [
    "# quit page\n",
    "qat.__quit__()"
   ]
  },
  {
   "attachments": {},
   "cell_type": "markdown",
   "metadata": {},
   "source": [
    "---\n",
    "#### Random "
   ]
  },
  {
   "cell_type": "code",
   "execution_count": null,
   "metadata": {},
   "outputs": [],
   "source": [
    "env = \"dev\"\n",
    "qs = QuantusScraper(env)\n",
    "\n",
    "factors, _factor_counts = qs.scraping_factors()\n",
    "factor_counts = _factor_counts - 10\n",
    "\n",
    "filters_sectors = qs.scraping_sectors()\n",
    "custom_factors = qs.scraping_custom_factors()\n",
    "\n",
    "filter_counts = len(filters_sectors[\"기본 필터\"])\n",
    "sector_counts = filter_counts + len(filters_sectors[\"제외할 섹터\"])"
   ]
  },
  {
   "cell_type": "code",
   "execution_count": null,
   "metadata": {},
   "outputs": [],
   "source": [
    "i = 0\n",
    "cnt = 30\n",
    "\n",
    "while i < cnt:\n",
    "    # universe random \n",
    "    filter_conditions[\"universe\"] = random.randint(1, 4)\n",
    "    \n",
    "    # filter random: 5\n",
    "    filter_conditions[\"removed_filters\"] = random.sample(range(filter_counts), 5)\n",
    "    \n",
    "    # sector random: 4\n",
    "    filter_conditions[\"removed_sectors\"] = random.sample(range(filter_counts, sector_counts), 4)\n",
    "    \n",
    "    # factor random: 6\n",
    "    filter_conditions[\"factors\"] = random.sample(range(factor_counts), 6)\n",
    "    \n",
    "\n",
    "    # custum factor random: 2 set\n",
    "    max_custom_idx = len(custom_factors) - 1\n",
    "    filter_conditions[\"custom_factors\"][\"denominators\"] = [random.randint(0, max_custom_idx), random.randint(0, max_custom_idx)]\n",
    "    filter_conditions[\"custom_factors\"][\"numerators\"] = [random.randint(0, max_custom_idx), random.randint(0, max_custom_idx)]\n",
    "    \n",
    "    qat.init_filter(filter_conditions)\n",
    "    qat.testing()\n",
    "    qat.upload()\n",
    "    \n",
    "    i += 1"
   ]
  },
  {
   "attachments": {},
   "cell_type": "markdown",
   "metadata": {},
   "source": [
    "---\n",
    "#### alloc test"
   ]
  },
  {
   "cell_type": "code",
   "execution_count": null,
   "metadata": {},
   "outputs": [],
   "source": []
  },
  {
   "cell_type": "code",
   "execution_count": null,
   "metadata": {},
   "outputs": [],
   "source": []
  }
 ],
 "metadata": {
  "kernelspec": {
   "display_name": "venv",
   "language": "python",
   "name": "python3"
  },
  "language_info": {
   "codemirror_mode": {
    "name": "ipython",
    "version": 3
   },
   "file_extension": ".py",
   "mimetype": "text/x-python",
   "name": "python",
   "nbconvert_exporter": "python",
   "pygments_lexer": "ipython3",
   "version": "3.11.1"
  },
  "orig_nbformat": 4,
  "vscode": {
   "interpreter": {
    "hash": "0934967f0403ca4943d8f4fa52275ade42772e3bf9101dfc6c691338049fba31"
   }
  }
 },
 "nbformat": 4,
 "nbformat_minor": 2
}
